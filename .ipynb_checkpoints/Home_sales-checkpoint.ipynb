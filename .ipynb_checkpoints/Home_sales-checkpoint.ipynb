{
 "cells": [
  {
   "cell_type": "code",
   "execution_count": 1,
   "id": "73e792c0-a3b2-47e6-a8eb-f7863458f0fb",
   "metadata": {},
   "outputs": [],
   "source": [
    "import pandas as pd"
   ]
  },
  {
   "cell_type": "code",
   "execution_count": 2,
   "id": "b105c52f-71dd-4a2e-a41e-4c957207016a",
   "metadata": {},
   "outputs": [],
   "source": [
    "df = pd.read_csv('output_file.csv')"
   ]
  },
  {
   "cell_type": "code",
   "execution_count": 3,
   "id": "f59e16ca-6728-4f8d-a075-c8ab1d53469f",
   "metadata": {},
   "outputs": [
    {
     "data": {
      "text/html": [
       "<div>\n",
       "<style scoped>\n",
       "    .dataframe tbody tr th:only-of-type {\n",
       "        vertical-align: middle;\n",
       "    }\n",
       "\n",
       "    .dataframe tbody tr th {\n",
       "        vertical-align: top;\n",
       "    }\n",
       "\n",
       "    .dataframe thead th {\n",
       "        text-align: right;\n",
       "    }\n",
       "</style>\n",
       "<table border=\"1\" class=\"dataframe\">\n",
       "  <thead>\n",
       "    <tr style=\"text-align: right;\">\n",
       "      <th></th>\n",
       "      <th>brokered_by</th>\n",
       "      <th>status</th>\n",
       "      <th>price</th>\n",
       "      <th>bed</th>\n",
       "      <th>bath</th>\n",
       "      <th>acre_lot</th>\n",
       "      <th>street</th>\n",
       "      <th>city</th>\n",
       "      <th>state</th>\n",
       "      <th>zip_code</th>\n",
       "      <th>house_size</th>\n",
       "      <th>prev_sold_date</th>\n",
       "    </tr>\n",
       "  </thead>\n",
       "  <tbody>\n",
       "    <tr>\n",
       "      <th>0</th>\n",
       "      <td>51869.0</td>\n",
       "      <td>sold</td>\n",
       "      <td>1250000.0</td>\n",
       "      <td>4.0</td>\n",
       "      <td>2.0</td>\n",
       "      <td>8.21</td>\n",
       "      <td>968657.0</td>\n",
       "      <td>Orofino</td>\n",
       "      <td>Idaho</td>\n",
       "      <td>83544.0</td>\n",
       "      <td>3504.0</td>\n",
       "      <td>2022-03-25</td>\n",
       "    </tr>\n",
       "    <tr>\n",
       "      <th>1</th>\n",
       "      <td>53333.0</td>\n",
       "      <td>for_sale</td>\n",
       "      <td>1500000.0</td>\n",
       "      <td>NaN</td>\n",
       "      <td>NaN</td>\n",
       "      <td>10.12</td>\n",
       "      <td>865311.0</td>\n",
       "      <td>Powder Springs</td>\n",
       "      <td>Georgia</td>\n",
       "      <td>30127.0</td>\n",
       "      <td>NaN</td>\n",
       "      <td>NaN</td>\n",
       "    </tr>\n",
       "    <tr>\n",
       "      <th>2</th>\n",
       "      <td>65559.0</td>\n",
       "      <td>for_sale</td>\n",
       "      <td>109900.0</td>\n",
       "      <td>2.0</td>\n",
       "      <td>1.0</td>\n",
       "      <td>0.12</td>\n",
       "      <td>974715.0</td>\n",
       "      <td>Sulphur</td>\n",
       "      <td>Louisiana</td>\n",
       "      <td>70663.0</td>\n",
       "      <td>1421.0</td>\n",
       "      <td>NaN</td>\n",
       "    </tr>\n",
       "    <tr>\n",
       "      <th>3</th>\n",
       "      <td>940.0</td>\n",
       "      <td>for_sale</td>\n",
       "      <td>225000.0</td>\n",
       "      <td>3.0</td>\n",
       "      <td>2.0</td>\n",
       "      <td>NaN</td>\n",
       "      <td>1090504.0</td>\n",
       "      <td>Glenview</td>\n",
       "      <td>Illinois</td>\n",
       "      <td>60025.0</td>\n",
       "      <td>1600.0</td>\n",
       "      <td>NaN</td>\n",
       "    </tr>\n",
       "    <tr>\n",
       "      <th>4</th>\n",
       "      <td>107929.0</td>\n",
       "      <td>sold</td>\n",
       "      <td>999000.0</td>\n",
       "      <td>5.0</td>\n",
       "      <td>3.0</td>\n",
       "      <td>0.46</td>\n",
       "      <td>1406903.0</td>\n",
       "      <td>Andover</td>\n",
       "      <td>Massachusetts</td>\n",
       "      <td>1810.0</td>\n",
       "      <td>3844.0</td>\n",
       "      <td>2022-03-11</td>\n",
       "    </tr>\n",
       "  </tbody>\n",
       "</table>\n",
       "</div>"
      ],
      "text/plain": [
       "   brokered_by    status      price  bed  bath  acre_lot     street  \\\n",
       "0      51869.0      sold  1250000.0  4.0   2.0      8.21   968657.0   \n",
       "1      53333.0  for_sale  1500000.0  NaN   NaN     10.12   865311.0   \n",
       "2      65559.0  for_sale   109900.0  2.0   1.0      0.12   974715.0   \n",
       "3        940.0  for_sale   225000.0  3.0   2.0       NaN  1090504.0   \n",
       "4     107929.0      sold   999000.0  5.0   3.0      0.46  1406903.0   \n",
       "\n",
       "             city          state  zip_code  house_size prev_sold_date  \n",
       "0         Orofino          Idaho   83544.0      3504.0     2022-03-25  \n",
       "1  Powder Springs        Georgia   30127.0         NaN            NaN  \n",
       "2         Sulphur      Louisiana   70663.0      1421.0            NaN  \n",
       "3        Glenview       Illinois   60025.0      1600.0            NaN  \n",
       "4         Andover  Massachusetts    1810.0      3844.0     2022-03-11  "
      ]
     },
     "execution_count": 3,
     "metadata": {},
     "output_type": "execute_result"
    }
   ],
   "source": [
    "df.head()"
   ]
  },
  {
   "cell_type": "code",
   "execution_count": 4,
   "id": "673ba706-30b7-42be-9d54-dc8aa3dfff39",
   "metadata": {},
   "outputs": [
    {
     "name": "stdout",
     "output_type": "stream",
     "text": [
      "<class 'pandas.core.frame.DataFrame'>\n",
      "RangeIndex: 22264 entries, 0 to 22263\n",
      "Data columns (total 12 columns):\n",
      " #   Column          Non-Null Count  Dtype  \n",
      "---  ------          --------------  -----  \n",
      " 0   brokered_by     22233 non-null  float64\n",
      " 1   status          22264 non-null  object \n",
      " 2   price           22249 non-null  float64\n",
      " 3   bed             17506 non-null  float64\n",
      " 4   bath            17195 non-null  float64\n",
      " 5   acre_lot        19015 non-null  float64\n",
      " 6   street          22154 non-null  float64\n",
      " 7   city            22246 non-null  object \n",
      " 8   state           22264 non-null  object \n",
      " 9   zip_code        22260 non-null  float64\n",
      " 10  house_size      16597 non-null  float64\n",
      " 11  prev_sold_date  14940 non-null  object \n",
      "dtypes: float64(8), object(4)\n",
      "memory usage: 2.0+ MB\n"
     ]
    }
   ],
   "source": [
    "df.info()"
   ]
  },
  {
   "cell_type": "code",
   "execution_count": null,
   "id": "1febc4c4-36f8-415d-97ff-3067c9007a39",
   "metadata": {},
   "outputs": [],
   "source": []
  }
 ],
 "metadata": {
  "kernelspec": {
   "display_name": "Python 3 (ipykernel)",
   "language": "python",
   "name": "python3"
  },
  "language_info": {
   "codemirror_mode": {
    "name": "ipython",
    "version": 3
   },
   "file_extension": ".py",
   "mimetype": "text/x-python",
   "name": "python",
   "nbconvert_exporter": "python",
   "pygments_lexer": "ipython3",
   "version": "3.10.15"
  }
 },
 "nbformat": 4,
 "nbformat_minor": 5
}
